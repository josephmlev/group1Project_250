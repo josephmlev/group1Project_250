{
 "cells": [
  {
   "cell_type": "code",
   "execution_count": 49,
   "id": "f6662b9d",
   "metadata": {},
   "outputs": [],
   "source": [
    "import numpy as np\n",
    "import pandas as pd\n",
    "import functions as funs\n",
    "import model as mod\n",
    "import matplotlib.pyplot as plt\n",
    "\n",
    "myData = funs.dataObject()"
   ]
  },
  {
   "cell_type": "code",
   "execution_count": 41,
   "id": "766cc647",
   "metadata": {},
   "outputs": [],
   "source": [
    "def loglike(params, dataObject, covType, z = 'NaN', cov = 0):\n",
    "    #check for valid covType \n",
    "    if covType == 'sys':\n",
    "        cov = dataObject.covStat\n",
    "    elif covType == 'tot':\n",
    "        cov = dataObject.covTotal\n",
    "    elif covType == int:\n",
    "        cov = cov\n",
    "        print('cov set to int value', cov)\n",
    "    else:\n",
    "        raise TypeError('covType must = \"sys\" or \"tot\"')\n",
    "    \n",
    "    #set redshift\n",
    "    if z == 'NaN':\n",
    "        z = dataObject.zcmb\n",
    "    else:\n",
    "        z == z\n",
    "    \n",
    "    #set model \n",
    "    m = mod.model(z, params)\n",
    "    \n",
    "    covInv = np.linalg.inv(cov)\n",
    "    \n",
    "    deltaM = z - m\n",
    "    \n",
    "    #This will break right now for single z value\n",
    "    chi2 = deltaM @ covInv @ deltaM\n",
    "    \n",
    "    return(-chi2/2)"
   ]
  },
  {
   "cell_type": "code",
   "execution_count": 39,
   "id": "6f747c10",
   "metadata": {},
   "outputs": [
    {
     "data": {
      "text/plain": [
       "38.332827335406996"
      ]
     },
     "execution_count": 39,
     "metadata": {},
     "output_type": "execute_result"
    }
   ],
   "source": [
    "params = np.array([1000,.1,.1,.1])\n",
    "z = 1\n",
    "mod.model(1, params)"
   ]
  },
  {
   "cell_type": "code",
   "execution_count": 42,
   "id": "363127d8",
   "metadata": {},
   "outputs": [
    {
     "data": {
      "text/plain": [
       "-846745.7176547664"
      ]
     },
     "execution_count": 42,
     "metadata": {},
     "output_type": "execute_result"
    }
   ],
   "source": [
    "loglike(params, myData, 'sys')"
   ]
  },
  {
   "cell_type": "code",
   "execution_count": 25,
   "id": "4e5620ac",
   "metadata": {},
   "outputs": [],
   "source": [
    "myData?\n"
   ]
  },
  {
   "cell_type": "code",
   "execution_count": 26,
   "id": "ff87a62b",
   "metadata": {},
   "outputs": [],
   "source": [
    "mod.model?"
   ]
  },
  {
   "cell_type": "code",
   "execution_count": 6,
   "id": "83eeecd9",
   "metadata": {},
   "outputs": [
    {
     "data": {
      "text/plain": [
       "array([[4.550000e-04, 2.604450e-04, 2.728900e-04, ..., 1.010500e-05,\n",
       "        7.052000e-05, 2.991250e-04],\n",
       "       [2.604450e-04, 7.944400e-04, 1.326800e-04, ..., 8.776500e-05,\n",
       "        1.174200e-04, 2.373850e-04],\n",
       "       [2.728900e-04, 1.326800e-04, 2.166850e-04, ..., 1.490000e-06,\n",
       "        1.019800e-04, 3.108300e-04],\n",
       "       ...,\n",
       "       [1.010500e-05, 8.776500e-05, 1.490000e-06, ..., 6.024750e-04,\n",
       "        7.305850e-04, 8.186400e-04],\n",
       "       [7.052000e-05, 1.174200e-04, 1.019800e-04, ..., 7.305850e-04,\n",
       "        2.527705e-03, 2.599130e-03],\n",
       "       [2.991250e-04, 2.373850e-04, 3.108300e-04, ..., 8.186400e-04,\n",
       "        2.599130e-03, 3.628650e-03]])"
      ]
     },
     "execution_count": 6,
     "metadata": {},
     "output_type": "execute_result"
    }
   ],
   "source": [
    "myData.covSys"
   ]
  },
  {
   "cell_type": "code",
   "execution_count": 24,
   "id": "3c823883",
   "metadata": {},
   "outputs": [
    {
     "data": {
      "text/plain": [
       "array([0.4531276 , 0.40277955, 0.36807776, 0.3859119 , 0.47899612,\n",
       "       0.57563711, 0.56506345, 0.78626895, 0.70257999, 0.78392279,\n",
       "       0.67976882, 0.66921467, 0.64322122, 0.50364937, 0.51528749,\n",
       "       0.46276415, 0.47268471, 0.51866096, 0.3996594 , 0.45212964,\n",
       "       0.44266758, 0.48606205, 0.46735094, 0.42937681, 0.47213586,\n",
       "       0.46610643, 0.46680413, 0.51401786, 0.47496508, 0.7217524 ,\n",
       "       0.57297135, 0.669103  , 0.61758113, 0.57086065, 0.72861247,\n",
       "       0.64439899, 0.60126489, 0.68009525, 1.42588006, 1.90555901])"
      ]
     },
     "execution_count": 24,
     "metadata": {},
     "output_type": "execute_result"
    }
   ],
   "source": [
    "myData.covStat @  myData.mb"
   ]
  },
  {
   "cell_type": "code",
   "execution_count": 21,
   "id": "8b1bf5a0",
   "metadata": {},
   "outputs": [
    {
     "data": {
      "text/plain": [
       "array([[0.0311 , 0.     , 0.     , ..., 0.     , 0.     , 0.     ],\n",
       "       [0.     , 0.02645, 0.     , ..., 0.     , 0.     , 0.     ],\n",
       "       [0.     , 0.     , 0.0231 , ..., 0.     , 0.     , 0.     ],\n",
       "       ...,\n",
       "       [0.     , 0.     , 0.     , ..., 0.0276 , 0.     , 0.     ],\n",
       "       [0.     , 0.     , 0.     , ..., 0.     , 0.05635, 0.     ],\n",
       "       [0.     , 0.     , 0.     , ..., 0.     , 0.     , 0.0735 ]])"
      ]
     },
     "execution_count": 21,
     "metadata": {},
     "output_type": "execute_result"
    }
   ],
   "source": [
    "myData.covStat"
   ]
  },
  {
   "cell_type": "code",
   "execution_count": 22,
   "id": "997810c3",
   "metadata": {},
   "outputs": [
    {
     "data": {
      "text/plain": [
       "array([14.57001926, 15.22796035, 15.93410232, 16.42178296, 16.83641896,\n",
       "       17.23464399, 17.57584596, 17.91045435, 18.17800746, 18.55438558,\n",
       "       18.7006554 , 19.03882424, 19.17201854, 19.37112952, 19.55550262,\n",
       "       19.81859308, 19.94450252, 20.06425376, 20.33890089, 20.50474561,\n",
       "       20.6854008 , 20.86103225, 21.05184401, 21.20379307, 21.36361378,\n",
       "       21.57900143, 21.81327728, 21.9665751 , 22.14289401, 22.37991924,\n",
       "       22.55792725, 22.79737664, 23.00115944, 23.3004345 , 23.50362803,\n",
       "       23.8666293 , 24.24455198, 24.64113237, 25.30399402, 25.92597291])"
      ]
     },
     "execution_count": 22,
     "metadata": {},
     "output_type": "execute_result"
    }
   ],
   "source": [
    "myData.mb"
   ]
  },
  {
   "cell_type": "code",
   "execution_count": 28,
   "id": "ada057e8",
   "metadata": {},
   "outputs": [
    {
     "data": {
      "text/plain": [
       "509.8141107800783"
      ]
     },
     "execution_count": 28,
     "metadata": {},
     "output_type": "execute_result"
    }
   ],
   "source": [
    "myData.mb @ myData.covStat @  myData.mb"
   ]
  },
  {
   "cell_type": "code",
   "execution_count": 54,
   "id": "be4f2a7d",
   "metadata": {},
   "outputs": [
    {
     "name": "stdout",
     "output_type": "stream",
     "text": [
      "4\n"
     ]
    }
   ],
   "source": [
    "loglikelist = []\n",
    "for i in range(10000):\n",
    "    params = np.random.rand(4)\n",
    "    loglikelist.append(loglike(params, myData, 'sys'))\n",
    "print(4)\n",
    "#plt.hist(loglikelist)"
   ]
  },
  {
   "cell_type": "code",
   "execution_count": null,
   "id": "e91703b0",
   "metadata": {},
   "outputs": [],
   "source": []
  }
 ],
 "metadata": {
  "kernelspec": {
   "display_name": "Python 3 (ipykernel)",
   "language": "python",
   "name": "python3"
  },
  "language_info": {
   "codemirror_mode": {
    "name": "ipython",
    "version": 3
   },
   "file_extension": ".py",
   "mimetype": "text/x-python",
   "name": "python",
   "nbconvert_exporter": "python",
   "pygments_lexer": "ipython3",
   "version": "3.9.5"
  }
 },
 "nbformat": 4,
 "nbformat_minor": 5
}
