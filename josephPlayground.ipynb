{
 "cells": [
  {
   "cell_type": "code",
<<<<<<< HEAD
   "execution_count": 1,
=======
   "execution_count": 11,
>>>>>>> 765f4c9b1aa3f4928be9931f3e15d187cadd0104
   "id": "f6662b9d",
   "metadata": {},
   "outputs": [],
   "source": [
    "import numpy as np\n",
    "import pandas as pd\n",
    "import functions as funs\n",
    "import model as mod\n",
    "import matplotlib.pyplot as plt\n",
    "import time \n",
    "\n",
<<<<<<< HEAD
    "myData = funs.dataObject(covType = 'tot')"
=======
    "myData = funs.dataObject('sys')"
>>>>>>> 765f4c9b1aa3f4928be9931f3e15d187cadd0104
   ]
  },
  {
   "cell_type": "code",
<<<<<<< HEAD
   "execution_count": null,
=======
   "execution_count": 12,
>>>>>>> 765f4c9b1aa3f4928be9931f3e15d187cadd0104
   "id": "766cc647",
   "metadata": {},
   "outputs": [],
   "source": [
    "#cov = dataObject.covTot \n",
    "\n",
    "def loglike(params, dataObject):\n",
    "    m = mod.model(dataObject.zcmb, params)\n",
    "    deltaM =  dataObject.mb - m\n",
    "    chi2 = deltaM @ dataObject.covInv @ deltaM\n",
    "    return(-chi2/2)\n",
    "\n",
    "\n",
    "def post(prior):\n",
    " return   \n",
    "    \n"
   ]
  },
  {
   "cell_type": "code",
<<<<<<< HEAD
   "execution_count": null,
   "id": "6f747c10",
   "metadata": {},
   "outputs": [],
=======
   "execution_count": 13,
   "id": "6f747c10",
   "metadata": {},
   "outputs": [
    {
     "data": {
      "text/plain": [
       "38.332827335406996"
      ]
     },
     "execution_count": 13,
     "metadata": {},
     "output_type": "execute_result"
    }
   ],
>>>>>>> 765f4c9b1aa3f4928be9931f3e15d187cadd0104
   "source": [
    "params = np.array([1000,.1,.1,.1])\n",
    "z = 1\n",
    "mod.model(1, params)"
   ]
  },
  {
   "cell_type": "code",
<<<<<<< HEAD
   "execution_count": null,
   "id": "363127d8",
   "metadata": {},
   "outputs": [],
=======
   "execution_count": 14,
   "id": "363127d8",
   "metadata": {},
   "outputs": [
    {
     "data": {
      "text/plain": [
       "-33078436.55442173"
      ]
     },
     "execution_count": 14,
     "metadata": {},
     "output_type": "execute_result"
    }
   ],
>>>>>>> 765f4c9b1aa3f4928be9931f3e15d187cadd0104
   "source": [
    "loglike(params, myData, 'stat')"
   ]
  },
  {
   "cell_type": "code",
<<<<<<< HEAD
   "execution_count": null,
   "id": "be4f2a7d",
=======
   "execution_count": 15,
   "id": "4e5620ac",
>>>>>>> 765f4c9b1aa3f4928be9931f3e15d187cadd0104
   "metadata": {},
   "outputs": [],
   "source": [
    "%%timeit\n",
    "\n",
    "loglikelist = []\n",
    "for i in range(100):\n",
    "    params = np.random.rand(4)\n",
    "    loglikelist.append(loglike(params, myData))\n",
    "\n",
    "plt.hist(loglikelist)"
   ]
  },
  {
   "cell_type": "code",
<<<<<<< HEAD
   "execution_count": null,
   "id": "bd9157e1",
=======
   "execution_count": 16,
   "id": "ff87a62b",
>>>>>>> 765f4c9b1aa3f4928be9931f3e15d187cadd0104
   "metadata": {},
   "outputs": [],
   "source": [
    "%%timeit\n",
    "\n",
    "loglikelist = []\n",
    "for i in range(100):\n",
    "    params = np.random.rand(4)\n",
    "    loglikelist.append(loglike2(params, myData))\n",
    "\n",
    "plt.hist(loglikelist)"
   ]
  },
  {
   "cell_type": "code",
<<<<<<< HEAD
   "execution_count": null,
   "id": "e91703b0",
   "metadata": {},
   "outputs": [],
   "source": []
  },
  {
   "cell_type": "code",
   "execution_count": null,
   "id": "ffabd48e",
   "metadata": {},
   "outputs": [],
=======
   "execution_count": 17,
   "id": "83eeecd9",
   "metadata": {},
   "outputs": [
    {
     "data": {
      "text/plain": [
       "array([[4.550000e-04, 2.604450e-04, 2.728900e-04, ..., 1.010500e-05,\n",
       "        7.052000e-05, 2.991250e-04],\n",
       "       [2.604450e-04, 7.944400e-04, 1.326800e-04, ..., 8.776500e-05,\n",
       "        1.174200e-04, 2.373850e-04],\n",
       "       [2.728900e-04, 1.326800e-04, 2.166850e-04, ..., 1.490000e-06,\n",
       "        1.019800e-04, 3.108300e-04],\n",
       "       ...,\n",
       "       [1.010500e-05, 8.776500e-05, 1.490000e-06, ..., 6.024750e-04,\n",
       "        7.305850e-04, 8.186400e-04],\n",
       "       [7.052000e-05, 1.174200e-04, 1.019800e-04, ..., 7.305850e-04,\n",
       "        2.527705e-03, 2.599130e-03],\n",
       "       [2.991250e-04, 2.373850e-04, 3.108300e-04, ..., 8.186400e-04,\n",
       "        2.599130e-03, 3.628650e-03]], dtype=float32)"
      ]
     },
     "execution_count": 17,
     "metadata": {},
     "output_type": "execute_result"
    }
   ],
>>>>>>> 765f4c9b1aa3f4928be9931f3e15d187cadd0104
   "source": [
    "myData.covStat**2"
   ]
  },
  {
   "cell_type": "code",
<<<<<<< HEAD
   "execution_count": null,
   "id": "eab2df69",
   "metadata": {},
   "outputs": [],
=======
   "execution_count": 18,
   "id": "3c823883",
   "metadata": {},
   "outputs": [
    {
     "data": {
      "text/plain": [
       "array([0.01409227, 0.01065352, 0.0085026 , 0.00906893, 0.01362744,\n",
       "       0.01922628, 0.01816679, 0.03451721, 0.02715472, 0.03312074,\n",
       "       0.0247096 , 0.02352289, 0.02158007, 0.01309488, 0.01357783,\n",
       "       0.01080554, 0.01120263, 0.01340738, 0.00785331, 0.00996946,\n",
       "       0.00947309, 0.01132525, 0.01037519, 0.00869488, 0.0104342 ,\n",
       "       0.0100679 , 0.00998961, 0.01202802, 0.010188  , 0.02327651,\n",
       "       0.01455347, 0.01963817, 0.01658205, 0.01398608, 0.02258699,\n",
       "       0.01739877, 0.01491137, 0.01877063, 0.08034834, 0.14005859],\n",
       "      dtype=float32)"
      ]
     },
     "execution_count": 18,
     "metadata": {},
     "output_type": "execute_result"
    }
   ],
>>>>>>> 765f4c9b1aa3f4928be9931f3e15d187cadd0104
   "source": [
    "params = np.array([1000,.1,.1,.1])"
   ]
  },
  {
   "cell_type": "code",
<<<<<<< HEAD
   "execution_count": null,
   "id": "28266d10",
   "metadata": {},
   "outputs": [],
=======
   "execution_count": 19,
   "id": "8b1bf5a0",
   "metadata": {},
   "outputs": [
    {
     "data": {
      "text/plain": [
       "array([[0.00096721, 0.        , 0.        , ..., 0.        , 0.        ,\n",
       "        0.        ],\n",
       "       [0.        , 0.0006996 , 0.        , ..., 0.        , 0.        ,\n",
       "        0.        ],\n",
       "       [0.        , 0.        , 0.00053361, ..., 0.        , 0.        ,\n",
       "        0.        ],\n",
       "       ...,\n",
       "       [0.        , 0.        , 0.        , ..., 0.00076176, 0.        ,\n",
       "        0.        ],\n",
       "       [0.        , 0.        , 0.        , ..., 0.        , 0.00317532,\n",
       "        0.        ],\n",
       "       [0.        , 0.        , 0.        , ..., 0.        , 0.        ,\n",
       "        0.00540225]], dtype=float32)"
      ]
     },
     "execution_count": 19,
     "metadata": {},
     "output_type": "execute_result"
    }
   ],
>>>>>>> 765f4c9b1aa3f4928be9931f3e15d187cadd0104
   "source": [
    "funs.loglike(params, myData)"
   ]
  },
  {
   "cell_type": "code",
<<<<<<< HEAD
   "execution_count": 2,
   "id": "3a64817b",
=======
   "execution_count": 20,
   "id": "997810c3",
>>>>>>> 765f4c9b1aa3f4928be9931f3e15d187cadd0104
   "metadata": {},
   "outputs": [
    {
     "data": {
      "text/plain": [
<<<<<<< HEAD
       "'tot'"
      ]
     },
     "execution_count": 2,
=======
       "array([14.57002 , 15.227961, 15.934102, 16.421783, 16.836418, 17.234644,\n",
       "       17.575846, 17.910454, 18.178007, 18.554386, 18.700655, 19.038824,\n",
       "       19.172018, 19.37113 , 19.555502, 19.818594, 19.944502, 20.064253,\n",
       "       20.338902, 20.504745, 20.6854  , 20.861032, 21.051844, 21.203793,\n",
       "       21.363613, 21.579002, 21.813278, 21.966576, 22.142895, 22.37992 ,\n",
       "       22.557928, 22.797377, 23.00116 , 23.300434, 23.503628, 23.866629,\n",
       "       24.244553, 24.641132, 25.303993, 25.925972], dtype=float32)"
      ]
     },
     "execution_count": 20,
>>>>>>> 765f4c9b1aa3f4928be9931f3e15d187cadd0104
     "metadata": {},
     "output_type": "execute_result"
    }
   ],
   "source": [
    "myData.covType"
   ]
  },
  {
   "cell_type": "code",
<<<<<<< HEAD
   "execution_count": 3,
   "id": "5eb3e600",
   "metadata": {},
   "outputs": [],
=======
   "execution_count": 21,
   "id": "ada057e8",
   "metadata": {},
   "outputs": [
    {
     "data": {
      "text/plain": [
       "17.593567"
      ]
     },
     "execution_count": 21,
     "metadata": {},
     "output_type": "execute_result"
    }
   ],
>>>>>>> 765f4c9b1aa3f4928be9931f3e15d187cadd0104
   "source": [
    "myData.changeCov('sys')"
   ]
  },
  {
   "cell_type": "code",
<<<<<<< HEAD
   "execution_count": 4,
   "id": "363c05f5",
   "metadata": {},
   "outputs": [
    {
     "data": {
      "text/plain": [
       "'sys'"
      ]
     },
     "execution_count": 4,
     "metadata": {},
     "output_type": "execute_result"
    }
   ],
   "source": [
    "myData.covType"
=======
   "execution_count": 23,
   "id": "be4f2a7d",
   "metadata": {},
   "outputs": [
    {
     "name": "stdout",
     "output_type": "stream",
     "text": [
      "4\n"
     ]
    },
    {
     "data": {
      "text/plain": [
       "(array([1.000e+00, 1.000e+00, 2.000e+00, 6.000e+00, 1.300e+01, 7.300e+01,\n",
       "        2.180e+02, 6.920e+02, 2.470e+03, 6.524e+03]),\n",
       " array([-1.51564185e+08, -1.43230776e+08, -1.34897368e+08, -1.26563959e+08,\n",
       "        -1.18230550e+08, -1.09897141e+08, -1.01563733e+08, -9.32303239e+07,\n",
       "        -8.48969152e+07, -7.65635064e+07, -6.82300977e+07]),\n",
       " <BarContainer object of 10 artists>)"
      ]
     },
     "execution_count": 23,
     "metadata": {},
     "output_type": "execute_result"
    },
    {
     "data": {
      "image/png": "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\n",
      "text/plain": [
       "<Figure size 432x288 with 1 Axes>"
      ]
     },
     "metadata": {
      "needs_background": "light"
     },
     "output_type": "display_data"
    }
   ],
   "source": [
    "loglikelist = []\n",
    "for i in range(10000):\n",
    "    params = np.random.rand(4)\n",
    "    loglikelist.append(loglike(params, myData, 'sys'))\n",
    "print(4)\n",
    "plt.hist(loglikelist)"
>>>>>>> 765f4c9b1aa3f4928be9931f3e15d187cadd0104
   ]
  },
  {
   "cell_type": "code",
   "execution_count": null,
   "id": "1547b791",
   "metadata": {},
   "outputs": [],
   "source": []
  }
 ],
 "metadata": {
  "kernelspec": {
   "display_name": "Python 3",
   "language": "python",
   "name": "python3"
  },
  "language_info": {
   "codemirror_mode": {
    "name": "ipython",
    "version": 3
   },
   "file_extension": ".py",
   "mimetype": "text/x-python",
   "name": "python",
   "nbconvert_exporter": "python",
   "pygments_lexer": "ipython3",
   "version": "3.9.7"
  }
 },
 "nbformat": 4,
 "nbformat_minor": 5
}
