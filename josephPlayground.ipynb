{
 "cells": [
  {
   "cell_type": "code",
   "execution_count": 1,
   "id": "f6662b9d",
   "metadata": {},
   "outputs": [],
   "source": [
    "import numpy as np\n",
    "import pandas as pd\n",
    "import functions as funs\n",
    "import model as mod\n",
    "import matplotlib.pyplot as plt\n",
    "import time \n",
    "\n",
    "myData = funs.dataObject(covType = 'tot')"
   ]
  },
  {
   "cell_type": "code",
   "execution_count": null,
   "id": "766cc647",
   "metadata": {},
   "outputs": [],
   "source": [
    "#cov = dataObject.covTot \n",
    "\n",
    "def loglike(params, dataObject):\n",
    "    m = mod.model(dataObject.zcmb, params)\n",
    "    deltaM =  dataObject.mb - m\n",
    "    chi2 = deltaM @ dataObject.covInv @ deltaM\n",
    "    return(-chi2/2)\n",
    "\n",
    "\n",
    "def post(prior):\n",
    " return   \n",
    "    \n"
   ]
  },
  {
   "cell_type": "code",
   "execution_count": null,
   "id": "6f747c10",
   "metadata": {},
   "outputs": [],
   "source": [
    "params = np.array([1000,.1,.1,.1])\n",
    "z = 1\n",
    "mod.model(1, params)"
   ]
  },
  {
   "cell_type": "code",
   "execution_count": null,
   "id": "363127d8",
   "metadata": {},
   "outputs": [],
   "source": [
    "loglike(params, myData, 'stat')"
   ]
  },
  {
   "cell_type": "code",
   "execution_count": null,
   "id": "be4f2a7d",
   "metadata": {},
   "outputs": [],
   "source": [
    "%%timeit\n",
    "\n",
    "loglikelist = []\n",
    "for i in range(100):\n",
    "    params = np.random.rand(4)\n",
    "    loglikelist.append(loglike(params, myData))\n",
    "\n",
    "plt.hist(loglikelist)"
   ]
  },
  {
   "cell_type": "code",
   "execution_count": null,
   "id": "bd9157e1",
   "metadata": {},
   "outputs": [],
   "source": [
    "%%timeit\n",
    "\n",
    "loglikelist = []\n",
    "for i in range(100):\n",
    "    params = np.random.rand(4)\n",
    "    loglikelist.append(loglike2(params, myData))\n",
    "\n",
    "plt.hist(loglikelist)"
   ]
  },
  {
   "cell_type": "code",
   "execution_count": null,
   "id": "e91703b0",
   "metadata": {},
   "outputs": [],
   "source": []
  },
  {
   "cell_type": "code",
   "execution_count": null,
   "id": "ffabd48e",
   "metadata": {},
   "outputs": [],
   "source": [
    "myData.covStat**2"
   ]
  },
  {
   "cell_type": "code",
   "execution_count": null,
   "id": "eab2df69",
   "metadata": {},
   "outputs": [],
   "source": [
    "params = np.array([1000,.1,.1,.1])"
   ]
  },
  {
   "cell_type": "code",
   "execution_count": null,
   "id": "28266d10",
   "metadata": {},
   "outputs": [],
   "source": [
    "funs.loglike(params, myData)"
   ]
  },
  {
   "cell_type": "code",
   "execution_count": 2,
   "id": "3a64817b",
   "metadata": {},
   "outputs": [
    {
     "data": {
      "text/plain": [
       "'tot'"
      ]
     },
     "execution_count": 2,
     "metadata": {},
     "output_type": "execute_result"
    }
   ],
   "source": [
    "myData.covType"
   ]
  },
  {
   "cell_type": "code",
   "execution_count": 3,
   "id": "5eb3e600",
   "metadata": {},
   "outputs": [],
   "source": [
    "myData.changeCov('sys')"
   ]
  },
  {
   "cell_type": "code",
   "execution_count": 4,
   "id": "363c05f5",
   "metadata": {},
   "outputs": [
    {
     "data": {
      "text/plain": [
       "'sys'"
      ]
     },
     "execution_count": 4,
     "metadata": {},
     "output_type": "execute_result"
    }
   ],
   "source": [
    "myData.covType"
   ]
  },
  {
   "cell_type": "code",
   "execution_count": null,
   "id": "1547b791",
   "metadata": {},
   "outputs": [],
   "source": []
  }
 ],
 "metadata": {
  "kernelspec": {
   "display_name": "Python 3 (ipykernel)",
   "language": "python",
   "name": "python3"
  },
  "language_info": {
   "codemirror_mode": {
    "name": "ipython",
    "version": 3
   },
   "file_extension": ".py",
   "mimetype": "text/x-python",
   "name": "python",
   "nbconvert_exporter": "python",
   "pygments_lexer": "ipython3",
   "version": "3.9.5"
  }
 },
 "nbformat": 4,
 "nbformat_minor": 5
}
