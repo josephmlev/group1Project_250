{
 "cells": [
  {
   "cell_type": "code",
   "execution_count": 87,
   "id": "38f9616d",
   "metadata": {},
   "outputs": [],
   "source": [
    "import numpy as np\n",
    "import matplotlib.pyplot as plt\n",
    "from scipy.interpolate import splev, splprep\n",
    "\n",
    "darkGray = np.loadtxt('./data/fig18DarkGray.txt',\n",
    "                                  unpack = False, \n",
    "                                  dtype = float, \n",
    "                                  delimiter = ',')"
   ]
  },
  {
   "cell_type": "code",
   "execution_count": 88,
   "id": "00299819",
   "metadata": {},
   "outputs": [
    {
     "data": {
      "text/plain": [
       "<matplotlib.collections.PathCollection at 0x7fe91cdf1e80>"
      ]
     },
     "execution_count": 88,
     "metadata": {},
     "output_type": "execute_result"
    },
    {
     "data": {
      "image/png": "[encoded data removed]",
      "text/plain": [
       "<Figure size 432x288 with 1 Axes>"
      ]
     },
     "metadata": {
      "needs_background": "light"
     },
     "output_type": "display_data"
    }
   ],
   "source": [
    "\n",
    "plt.plot(darkGray[:,0], darkGray[:,1])\n",
    "plt.scatter(darkGray[:,0], darkGray[:,1])"
   ]
  },
  {
   "cell_type": "code",
   "execution_count": 80,
   "id": "6890512a",
   "metadata": {},
   "outputs": [],
   "source": [
    "darkGraySorted = np.sort(darkGray, axis=0)"
   ]
  },
  {
   "cell_type": "code",
   "execution_count": 68,
   "id": "ddba8fa2",
   "metadata": {},
   "outputs": [
    {
     "ename": "ValueError",
     "evalue": "not enough values to unpack (expected 2, got 1)",
     "output_type": "error",
     "traceback": [
      "\u001b[0;31m---------------------------------------------------------------------------\u001b[0m",
      "\u001b[0;31mValueError\u001b[0m                                Traceback (most recent call last)",
      "\u001b[0;32m/var/folders/5z/rg0q4x2x5gl_n4zhlnzrcgxh0000gn/T/ipykernel_15785/975889102.py\u001b[0m in \u001b[0;36m<module>\u001b[0;34m\u001b[0m\n\u001b[0;32m----> 1\u001b[0;31m \u001b[0mtck\u001b[0m\u001b[0;34m,\u001b[0m \u001b[0mu\u001b[0m \u001b[0;34m=\u001b[0m \u001b[0msplprep\u001b[0m\u001b[0;34m(\u001b[0m\u001b[0mdarkGraySorted\u001b[0m\u001b[0;34m[\u001b[0m\u001b[0;34m:\u001b[0m\u001b[0;34m,\u001b[0m\u001b[0;36m0\u001b[0m\u001b[0;34m]\u001b[0m\u001b[0;34m,\u001b[0m \u001b[0mdarkGraySorted\u001b[0m\u001b[0;34m[\u001b[0m\u001b[0;34m:\u001b[0m\u001b[0;34m,\u001b[0m\u001b[0;36m1\u001b[0m\u001b[0;34m]\u001b[0m\u001b[0;34m)\u001b[0m\u001b[0;34m\u001b[0m\u001b[0;34m\u001b[0m\u001b[0m\n\u001b[0m\u001b[1;32m      2\u001b[0m \u001b[0mx2\u001b[0m \u001b[0;34m=\u001b[0m \u001b[0mnp\u001b[0m\u001b[0;34m.\u001b[0m\u001b[0mlinspace\u001b[0m\u001b[0;34m(\u001b[0m\u001b[0;36m0\u001b[0m\u001b[0;34m,\u001b[0m \u001b[0;36m100\u001b[0m\u001b[0;34m,\u001b[0m \u001b[0;36m200\u001b[0m\u001b[0;34m)\u001b[0m\u001b[0;34m\u001b[0m\u001b[0;34m\u001b[0m\u001b[0m\n\u001b[1;32m      3\u001b[0m \u001b[0my2\u001b[0m \u001b[0;34m=\u001b[0m \u001b[0msplev\u001b[0m\u001b[0;34m(\u001b[0m\u001b[0mx2\u001b[0m\u001b[0;34m,\u001b[0m \u001b[0mspl\u001b[0m\u001b[0;34m)\u001b[0m\u001b[0;34m\u001b[0m\u001b[0;34m\u001b[0m\u001b[0m\n\u001b[1;32m      4\u001b[0m \u001b[0mplt\u001b[0m\u001b[0;34m.\u001b[0m\u001b[0mplot\u001b[0m\u001b[0;34m(\u001b[0m\u001b[0mx\u001b[0m\u001b[0;34m,\u001b[0m \u001b[0my\u001b[0m\u001b[0;34m,\u001b[0m \u001b[0;34m'o'\u001b[0m\u001b[0;34m,\u001b[0m \u001b[0mx2\u001b[0m\u001b[0;34m,\u001b[0m \u001b[0my2\u001b[0m\u001b[0;34m)\u001b[0m\u001b[0;34m\u001b[0m\u001b[0;34m\u001b[0m\u001b[0m\n\u001b[1;32m      5\u001b[0m \u001b[0mplt\u001b[0m\u001b[0;34m.\u001b[0m\u001b[0mshow\u001b[0m\u001b[0;34m(\u001b[0m\u001b[0;34m)\u001b[0m\u001b[0;34m\u001b[0m\u001b[0;34m\u001b[0m\u001b[0m\n",
      "\u001b[0;32m~/miniconda3/lib/python3.9/site-packages/scipy/interpolate/fitpack.py\u001b[0m in \u001b[0;36msplprep\u001b[0;34m(x, w, u, ub, ue, k, task, s, t, full_output, nest, per, quiet)\u001b[0m\n\u001b[1;32m    153\u001b[0m \u001b[0;34m\u001b[0m\u001b[0m\n\u001b[1;32m    154\u001b[0m     \"\"\"\n\u001b[0;32m--> 155\u001b[0;31m     res = _impl.splprep(x, w, u, ub, ue, k, task, s, t, full_output, nest, per,\n\u001b[0m\u001b[1;32m    156\u001b[0m                         quiet)\n\u001b[1;32m    157\u001b[0m     \u001b[0;32mreturn\u001b[0m \u001b[0mres\u001b[0m\u001b[0;34m\u001b[0m\u001b[0;34m\u001b[0m\u001b[0m\n",
      "\u001b[0;32m~/miniconda3/lib/python3.9/site-packages/scipy/interpolate/_fitpack_impl.py\u001b[0m in \u001b[0;36msplprep\u001b[0;34m(x, w, u, ub, ue, k, task, s, t, full_output, nest, per, quiet)\u001b[0m\n\u001b[1;32m    219\u001b[0m                          'ub': 0, 'ue': 1}\n\u001b[1;32m    220\u001b[0m     \u001b[0mx\u001b[0m \u001b[0;34m=\u001b[0m \u001b[0matleast_1d\u001b[0m\u001b[0;34m(\u001b[0m\u001b[0mx\u001b[0m\u001b[0;34m)\u001b[0m\u001b[0;34m\u001b[0m\u001b[0;34m\u001b[0m\u001b[0m\n\u001b[0;32m--> 221\u001b[0;31m     \u001b[0midim\u001b[0m\u001b[0;34m,\u001b[0m \u001b[0mm\u001b[0m \u001b[0;34m=\u001b[0m \u001b[0mx\u001b[0m\u001b[0;34m.\u001b[0m\u001b[0mshape\u001b[0m\u001b[0;34m\u001b[0m\u001b[0;34m\u001b[0m\u001b[0m\n\u001b[0m\u001b[1;32m    222\u001b[0m     \u001b[0;32mif\u001b[0m \u001b[0mper\u001b[0m\u001b[0;34m:\u001b[0m\u001b[0;34m\u001b[0m\u001b[0;34m\u001b[0m\u001b[0m\n\u001b[1;32m    223\u001b[0m         \u001b[0;32mfor\u001b[0m \u001b[0mi\u001b[0m \u001b[0;32min\u001b[0m \u001b[0mrange\u001b[0m\u001b[0;34m(\u001b[0m\u001b[0midim\u001b[0m\u001b[0;34m)\u001b[0m\u001b[0;34m:\u001b[0m\u001b[0;34m\u001b[0m\u001b[0;34m\u001b[0m\u001b[0m\n",
      "\u001b[0;31mValueError\u001b[0m: not enough values to unpack (expected 2, got 1)"
     ]
    }
   ],
   "source": [
    "tck, u = splprep(darkGraySorted[:,0], darkGraySorted[:,1])\n",
    "x2 = np.linspace(0, 100, 200)\n",
    "y2 = splev(x2, spl)\n",
    "plt.plot(x, y, 'o', x2, y2)\n",
    "plt.show()\n",
    "\n",
    "#unew = np.arange(0, 1.00, 0.005)\n",
    "#out = scipy.interpolate.splev(unew, tck)"
   ]
  },
  {
   "cell_type": "code",
   "execution_count": 26,
   "id": "d9b4f922",
   "metadata": {},
   "outputs": [],
   "source": [
    "# append the starting x,y coordinates\n",
    "x = np.r_[darkGrayX, darkGrayX[0]]\n",
    "y = np.r_[darkGrayY, darkGrayY[0]]"
   ]
  },
  {
   "cell_type": "code",
   "execution_count": 18,
   "id": "7b72cae9",
   "metadata": {},
   "outputs": [
    {
     "ename": "ValueError",
     "evalue": "Invalid inputs.",
     "output_type": "error",
     "traceback": [
      "\u001b[0;31m---------------------------------------------------------------------------\u001b[0m",
      "\u001b[0;31mValueError\u001b[0m                                Traceback (most recent call last)",
      "\u001b[0;32m/var/folders/5z/rg0q4x2x5gl_n4zhlnzrcgxh0000gn/T/ipykernel_15785/2012203688.py\u001b[0m in \u001b[0;36m<module>\u001b[0;34m\u001b[0m\n\u001b[1;32m      1\u001b[0m \u001b[0;31m# fit splines to x=f(u) and y=g(u), treating both as periodic. also note that s=0\u001b[0m\u001b[0;34m\u001b[0m\u001b[0;34m\u001b[0m\u001b[0;34m\u001b[0m\u001b[0m\n\u001b[1;32m      2\u001b[0m \u001b[0;31m# is needed in order to force the spline fit to pass through all the input points.\u001b[0m\u001b[0;34m\u001b[0m\u001b[0;34m\u001b[0m\u001b[0;34m\u001b[0m\u001b[0m\n\u001b[0;32m----> 3\u001b[0;31m \u001b[0mtck\u001b[0m\u001b[0;34m,\u001b[0m \u001b[0mu\u001b[0m \u001b[0;34m=\u001b[0m \u001b[0minterpolate\u001b[0m\u001b[0;34m.\u001b[0m\u001b[0msplprep\u001b[0m\u001b[0;34m(\u001b[0m\u001b[0;34m[\u001b[0m\u001b[0mx\u001b[0m\u001b[0;34m,\u001b[0m \u001b[0my\u001b[0m\u001b[0;34m]\u001b[0m\u001b[0;34m,\u001b[0m \u001b[0ms\u001b[0m\u001b[0;34m=\u001b[0m\u001b[0;36m0\u001b[0m\u001b[0;34m,\u001b[0m \u001b[0mper\u001b[0m\u001b[0;34m=\u001b[0m\u001b[0;32mTrue\u001b[0m\u001b[0;34m)\u001b[0m\u001b[0;34m\u001b[0m\u001b[0;34m\u001b[0m\u001b[0m\n\u001b[0m\u001b[1;32m      4\u001b[0m \u001b[0;34m\u001b[0m\u001b[0m\n\u001b[1;32m      5\u001b[0m \u001b[0;31m# evaluate the spline fits for 1000 evenly spaced distance values\u001b[0m\u001b[0;34m\u001b[0m\u001b[0;34m\u001b[0m\u001b[0;34m\u001b[0m\u001b[0m\n",
      "\u001b[0;32m~/miniconda3/lib/python3.9/site-packages/scipy/interpolate/fitpack.py\u001b[0m in \u001b[0;36msplprep\u001b[0;34m(x, w, u, ub, ue, k, task, s, t, full_output, nest, per, quiet)\u001b[0m\n\u001b[1;32m    153\u001b[0m \u001b[0;34m\u001b[0m\u001b[0m\n\u001b[1;32m    154\u001b[0m     \"\"\"\n\u001b[0;32m--> 155\u001b[0;31m     res = _impl.splprep(x, w, u, ub, ue, k, task, s, t, full_output, nest, per,\n\u001b[0m\u001b[1;32m    156\u001b[0m                         quiet)\n\u001b[1;32m    157\u001b[0m     \u001b[0;32mreturn\u001b[0m \u001b[0mres\u001b[0m\u001b[0;34m\u001b[0m\u001b[0;34m\u001b[0m\u001b[0m\n",
      "\u001b[0;32m~/miniconda3/lib/python3.9/site-packages/scipy/interpolate/_fitpack_impl.py\u001b[0m in \u001b[0;36msplprep\u001b[0;34m(x, w, u, ub, ue, k, task, s, t, full_output, nest, per, quiet)\u001b[0m\n\u001b[1;32m    278\u001b[0m     \u001b[0mwrk\u001b[0m \u001b[0;34m=\u001b[0m \u001b[0m_parcur_cache\u001b[0m\u001b[0;34m[\u001b[0m\u001b[0;34m'wrk'\u001b[0m\u001b[0;34m]\u001b[0m\u001b[0;34m\u001b[0m\u001b[0;34m\u001b[0m\u001b[0m\n\u001b[1;32m    279\u001b[0m     \u001b[0miwrk\u001b[0m \u001b[0;34m=\u001b[0m \u001b[0m_parcur_cache\u001b[0m\u001b[0;34m[\u001b[0m\u001b[0;34m'iwrk'\u001b[0m\u001b[0;34m]\u001b[0m\u001b[0;34m\u001b[0m\u001b[0;34m\u001b[0m\u001b[0m\n\u001b[0;32m--> 280\u001b[0;31m     t, c, o = _fitpack._parcur(ravel(transpose(x)), w, u, ub, ue, k,\n\u001b[0m\u001b[1;32m    281\u001b[0m                                task, ipar, s, t, nest, wrk, iwrk, per)\n\u001b[1;32m    282\u001b[0m     \u001b[0m_parcur_cache\u001b[0m\u001b[0;34m[\u001b[0m\u001b[0;34m'u'\u001b[0m\u001b[0;34m]\u001b[0m \u001b[0;34m=\u001b[0m \u001b[0mo\u001b[0m\u001b[0;34m[\u001b[0m\u001b[0;34m'u'\u001b[0m\u001b[0;34m]\u001b[0m\u001b[0;34m\u001b[0m\u001b[0;34m\u001b[0m\u001b[0m\n",
      "\u001b[0;31mValueError\u001b[0m: Invalid inputs."
     ]
    }
   ],
   "source": [
    "# fit splines to x=f(u) and y=g(u), treating both as periodic. also note that s=0\n",
    "# is needed in order to force the spline fit to pass through all the input points.\n",
    "tck, u = interpolate.splprep([x, y], s=0, per=True)\n",
    "\n",
    "# evaluate the spline fits for 1000 evenly spaced distance values\n",
    "xi, yi = interpolate.splev(np.linspace(0, 1, 1000), tck)\n",
    "\n",
    "# plot the result\n",
    "fig, ax = plt.subplots(1, 1)\n",
    "ax.plot(x, y, 'or')\n",
    "ax.plot(xi, yi, '-b')"
   ]
  },
  {
   "cell_type": "code",
   "execution_count": null,
   "id": "0b2dfe8f",
   "metadata": {},
   "outputs": [],
   "source": []
  },
  {
   "cell_type": "code",
   "execution_count": null,
   "id": "45acf168",
   "metadata": {},
   "outputs": [],
   "source": []
  }
 ],
 "metadata": {
  "kernelspec": {
   "display_name": "Python 3 (ipykernel)",
   "language": "python",
   "name": "python3"
  },
  "language_info": {
   "codemirror_mode": {
    "name": "ipython",
    "version": 3
   },
   "file_extension": ".py",
   "mimetype": "text/x-python",
   "name": "python",
   "nbconvert_exporter": "python",
   "pygments_lexer": "ipython3",
   "version": "3.9.5"
  }
 },
 "nbformat": 4,
 "nbformat_minor": 5
}
